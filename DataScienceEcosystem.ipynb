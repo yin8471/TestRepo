{
 "cells": [
  {
   "cell_type": "markdown",
   "id": "797ee9e4-d41c-4848-ada5-f4d8b944ff6d",
   "metadata": {},
   "source": [
    "# Data Science Tools and Ecosystem"
   ]
  },
  {
   "cell_type": "markdown",
   "id": "7b182bc1-f6e0-4526-80f3-9708d8877465",
   "metadata": {},
   "source": [
    "In this notebook, Data Science Tools and Ecosystem are summarized."
   ]
  },
  {
   "cell_type": "markdown",
   "id": "0be8117c-f766-4ce0-910e-c5573198ada0",
   "metadata": {},
   "source": [
    "**Objectives:**\n",
    "- List popular languages for Data Science\n",
    "- List commonly used libraries used by Data Scientists\n",
    "- List development environment open source tools used in data science\n",
    "- simple arithmetic expression to mutiply then add integers\n",
    "- convert 200 minutes to hours by diving by 60"
   ]
  },
  {
   "cell_type": "markdown",
   "id": "37c36d19-c68e-4249-9446-e65d7c4a4642",
   "metadata": {},
   "source": [
    "Some of the popular languages that Data Scientists use are:\n",
    "Python / R / C++ / Java / SQL / JavaScript ... etc"
   ]
  },
  {
   "cell_type": "markdown",
   "id": "beb5a4c2-e84e-4f8f-b3fb-dc9d506f9f6c",
   "metadata": {},
   "source": [
    "Some of the commonly used libraries used by Data Scientists include:\n",
    "NumPy / Pandas / SciPy / Matplotlib / Seabron / Plotly ...etc "
   ]
  },
  {
   "cell_type": "markdown",
   "id": "bc6e6058-59d0-42b8-979d-51fd8f605af9",
   "metadata": {},
   "source": [
    "| Data Science Tools |\n",
    "| -------------------|\n",
    "|Jupyter Notebooks|\n",
    "|RStudio|\n",
    "|Apache Spark|"
   ]
  },
  {
   "cell_type": "markdown",
   "id": "7e51d87b-bab3-4c05-a25e-3097c49df865",
   "metadata": {},
   "source": [
    "### Below are a few examples of evaluating arithmetic expressions in Python"
   ]
  },
  {
   "cell_type": "markdown",
   "id": "d4bc06fb-791f-4d78-80f2-991db501aa59",
   "metadata": {},
   "source": [
    "This a simple arithmetic expression to mutiply then add integers"
   ]
  },
  {
   "cell_type": "code",
   "execution_count": 11,
   "id": "629c18e8-2d03-4319-84cf-dfecfd3408e5",
   "metadata": {},
   "outputs": [
    {
     "data": {
      "text/plain": [
       "17"
      ]
     },
     "execution_count": 11,
     "metadata": {},
     "output_type": "execute_result"
    }
   ],
   "source": [
    "(3*4)+5"
   ]
  },
  {
   "cell_type": "markdown",
   "id": "9eb2db81-820e-464c-af16-ab5d53b4e594",
   "metadata": {},
   "source": [
    "This will convert 200 minutes to hours by diving by 60"
   ]
  },
  {
   "cell_type": "code",
   "execution_count": 12,
   "id": "5da9187a-0559-40b6-8a09-b21cdd2a6fde",
   "metadata": {},
   "outputs": [
    {
     "data": {
      "text/plain": [
       "3.3333333333333335"
      ]
     },
     "execution_count": 12,
     "metadata": {},
     "output_type": "execute_result"
    }
   ],
   "source": [
    "200/60"
   ]
  },
  {
   "cell_type": "markdown",
   "id": "38d7eab6-8c78-4dd3-9b1e-545e454f3a8d",
   "metadata": {},
   "source": [
    "## Author\n",
    "Ng Chun Yin"
   ]
  },
  {
   "cell_type": "code",
   "execution_count": null,
   "id": "8c017d7f-bc68-4570-9085-62eee9a2b0cc",
   "metadata": {},
   "outputs": [],
   "source": []
  }
 ],
 "metadata": {
  "kernelspec": {
   "display_name": "Python 3 (ipykernel)",
   "language": "python",
   "name": "python3"
  },
  "language_info": {
   "codemirror_mode": {
    "name": "ipython",
    "version": 3
   },
   "file_extension": ".py",
   "mimetype": "text/x-python",
   "name": "python",
   "nbconvert_exporter": "python",
   "pygments_lexer": "ipython3",
   "version": "3.12.8"
  }
 },
 "nbformat": 4,
 "nbformat_minor": 5
}
